{
  "nbformat": 4,
  "nbformat_minor": 0,
  "metadata": {
    "colab": {
      "name": "Untitled49.ipynb",
      "provenance": [],
      "authorship_tag": "ABX9TyN7jSPWH5+L3tXpHP/3jyOv",
      "include_colab_link": true
    },
    "kernelspec": {
      "name": "python3",
      "display_name": "Python 3"
    }
  },
  "cells": [
    {
      "cell_type": "markdown",
      "metadata": {
        "id": "view-in-github",
        "colab_type": "text"
      },
      "source": [
        "<a href=\"https://colab.research.google.com/github/harishvenkatram/Lets-Upgrade-Python-Essentials-Program-Dec-20/blob/main/Day%203%20Assignment-10th%20Dec'20%20Solution.ipynb\" target=\"_parent\"><img src=\"https://colab.research.google.com/assets/colab-badge.svg\" alt=\"Open In Colab\"/></a>"
      ]
    },
    {
      "cell_type": "code",
      "metadata": {
        "colab": {
          "base_uri": "https://localhost:8080/"
        },
        "id": "1yPDt4zqtb-D",
        "outputId": "b34ebba3-8cf0-4c7b-d262-9fcaf21eaf13"
      },
      "source": [
        "#Question 1\r\n",
        "#Use IF ELSE and ELIF to write a program in python for your Report Cards.\r\n",
        "\r\n",
        "#Solution\r\n",
        "marks=float(input('Enter the percentage of student:'))\r\n",
        "a = int(marks)\r\n",
        "if(a>85):\r\n",
        "    print('Grade - \\'A\\'')\r\n",
        "elif(a<=85 and a>80):\r\n",
        "    print('Grade - \\'A-\\'')\r\n",
        "elif(a>70 and a<=80):\r\n",
        "    print('Grade - \\'B\\'')\r\n",
        "elif(a>60 and a<=70):\r\n",
        "    print('Grade - \\'C\\'')\r\n",
        "elif(a>40 and a<=60):\r\n",
        "    print('Grade - \\'D\\'')\r\n",
        "elif(a<=40):\r\n",
        "    if(a<=35):\r\n",
        "        print('Grade - \\'E\\' Candidate failed')\r\n",
        "    else:\r\n",
        "        print('Grade - \\'E\\'')"
      ],
      "execution_count": 6,
      "outputs": [
        {
          "output_type": "stream",
          "text": [
            "Enter the percentage of student:82.3\n",
            "Grade - 'A-'\n"
          ],
          "name": "stdout"
        }
      ]
    },
    {
      "cell_type": "code",
      "metadata": {
        "colab": {
          "base_uri": "https://localhost:8080/"
        },
        "id": "1qN-vH-Jubsd",
        "outputId": "55f5ace4-2847-4d7a-b1f3-4ca1be749de7"
      },
      "source": [
        "#Question 2\r\n",
        "#Use For Loop to Print Prime Numbers in between 1 to 1000\r\n",
        "\r\n",
        "#Solution\r\n",
        "for num in range (1, 1001):\r\n",
        "    count = 0\r\n",
        "    for i in range(2, (num//2 + 1)):\r\n",
        "        if(num % i == 0):\r\n",
        "            count = count + 1\r\n",
        "            break\r\n",
        "    if (count == 0 and num != 1):\r\n",
        "        print(\" %d\" %num, end = '  ')"
      ],
      "execution_count": 8,
      "outputs": [
        {
          "output_type": "stream",
          "text": [
            " 2   3   5   7   11   13   17   19   23   29   31   37   41   43   47   53   59   61   67   71   73   79   83   89   97   101   103   107   109   113   127   131   137   139   149   151   157   163   167   173   179   181   191   193   197   199   211   223   227   229   233   239   241   251   257   263   269   271   277   281   283   293   307   311   313   317   331   337   347   349   353   359   367   373   379   383   389   397   401   409   419   421   431   433   439   443   449   457   461   463   467   479   487   491   499   503   509   521   523   541   547   557   563   569   571   577   587   593   599   601   607   613   617   619   631   641   643   647   653   659   661   673   677   683   691   701   709   719   727   733   739   743   751   757   761   769   773   787   797   809   811   821   823   827   829   839   853   857   859   863   877   881   883   887   907   911   919   929   937   941   947   953   967   971   977   983   991   997  "
          ],
          "name": "stdout"
        }
      ]
    },
    {
      "cell_type": "code",
      "metadata": {
        "colab": {
          "base_uri": "https://localhost:8080/"
        },
        "id": "bBt_HWWOulTc",
        "outputId": "68d17ed1-0117-4077-fe5a-31bc41baa6ef"
      },
      "source": [
        "#Question 3\r\n",
        "#Write a program for printing the tables from 1,10 using Nested For Loop\r\n",
        "\r\n",
        "#Solution\r\n",
        "num = int(input(\"Enter the number: \"))\r\n",
        "\r\n",
        "print(\"Multiplication Table of\", num)\r\n",
        "for i in range(1, 11):\r\n",
        "   print(num,\"X\",i,\"=\",num * i)"
      ],
      "execution_count": 10,
      "outputs": [
        {
          "output_type": "stream",
          "text": [
            "Enter the number: 9\n",
            "Multiplication Table of 9\n",
            "9 X 1 = 9\n",
            "9 X 2 = 18\n",
            "9 X 3 = 27\n",
            "9 X 4 = 36\n",
            "9 X 5 = 45\n",
            "9 X 6 = 54\n",
            "9 X 7 = 63\n",
            "9 X 8 = 72\n",
            "9 X 9 = 81\n",
            "9 X 10 = 90\n"
          ],
          "name": "stdout"
        }
      ]
    },
    {
      "cell_type": "code",
      "metadata": {
        "colab": {
          "base_uri": "https://localhost:8080/"
        },
        "id": "HKIEf7KHutVJ",
        "outputId": "9a11ae60-e90c-4da2-a58c-05721bcffb9e"
      },
      "source": [
        "#Question 4\r\n",
        "#Write a program to Print X Prime Numbers using While Loop starting from 0, and take the INput of X from the user\r\n",
        "\r\n",
        "#Solution\r\n",
        "n=int(input(\"Enter the number until which prime numbers are to be printed:\"))\r\n",
        "num = 1\r\n",
        "while(num <= n):\r\n",
        "    count = 0\r\n",
        "    i = 2\r\n",
        "    while(i <= num//2):\r\n",
        "        if(num % i == 0):\r\n",
        "            count = count + 1\r\n",
        "            break\r\n",
        "        i = i + 1\r\n",
        "    if (count == 0 and num != 1):\r\n",
        "        print(\" %d\" %num, end = '  ')\r\n",
        "    num = num  + 1"
      ],
      "execution_count": 12,
      "outputs": [
        {
          "output_type": "stream",
          "text": [
            "Enter the number until which prime numbers are to be printed:15\n",
            " 2   3   5   7   11   13  "
          ],
          "name": "stdout"
        }
      ]
    }
  ]
}