{
  "nbformat": 4,
  "nbformat_minor": 0,
  "metadata": {
    "colab": {
      "name": "Untitled51.ipynb",
      "provenance": [],
      "authorship_tag": "ABX9TyMGom9/JFMdWH4+LlPryN5y",
      "include_colab_link": true
    },
    "kernelspec": {
      "name": "python3",
      "display_name": "Python 3"
    }
  },
  "cells": [
    {
      "cell_type": "markdown",
      "metadata": {
        "id": "view-in-github",
        "colab_type": "text"
      },
      "source": [
        "<a href=\"https://colab.research.google.com/github/harishvenkatram/Lets-Upgrade-Python-Essentials-Program-Dec-20/blob/main/Day%204%20Assignment-12th%20Dec'20-Solution.ipynb\" target=\"_parent\"><img src=\"https://colab.research.google.com/assets/colab-badge.svg\" alt=\"Open In Colab\"/></a>"
      ]
    },
    {
      "cell_type": "code",
      "metadata": {
        "id": "Na4_FNwsJBTh"
      },
      "source": [
        "#Question 1\r\n",
        "#Write down a program in Python for Opening a File and Writing \" I Love LetsUpgrade\" And close\r\n",
        "#it, and read it back again, and then append some data to it and close it.\r\n",
        "\r\n",
        "#Solution\r\n"
      ],
      "execution_count": null,
      "outputs": []
    },
    {
      "cell_type": "code",
      "metadata": {
        "id": "7iXjmx3ZJL5G"
      },
      "source": [
        "#Question 2\r\n",
        "#Write a function which can return a Factorial of any numbers as INT, given in the argument.\r\n",
        "\r\n",
        "#Solution\r\n"
      ],
      "execution_count": null,
      "outputs": []
    }
  ]
}