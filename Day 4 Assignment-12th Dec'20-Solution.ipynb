{
  "nbformat": 4,
  "nbformat_minor": 0,
  "metadata": {
    "colab": {
      "name": "Untitled51.ipynb",
      "provenance": [],
      "authorship_tag": "ABX9TyOj1/t59lf1AKk1/IIcSdZY",
      "include_colab_link": true
    },
    "kernelspec": {
      "name": "python3",
      "display_name": "Python 3"
    }
  },
  "cells": [
    {
      "cell_type": "markdown",
      "metadata": {
        "id": "view-in-github",
        "colab_type": "text"
      },
      "source": [
        "<a href=\"https://colab.research.google.com/github/harishvenkatram/Lets-Upgrade-Python-Essentials-Program-Dec-20/blob/main/Day%204%20Assignment-12th%20Dec'20-Solution.ipynb\" target=\"_parent\"><img src=\"https://colab.research.google.com/assets/colab-badge.svg\" alt=\"Open In Colab\"/></a>"
      ]
    },
    {
      "cell_type": "code",
      "metadata": {
        "id": "Na4_FNwsJBTh"
      },
      "source": [
        "#Question 1\r\n",
        "#Write down a program in Python for Opening a File and Writing \"I Love LetsUpgrade\" And close\r\n",
        "#it, and read it back again, and then append some data to it and close it.\r\n",
        "\r\n",
        "#Solution\r\n",
        "f=open(\"python.txt\",\"w+\")\r\n",
        "f.write(\"I Love LetsUpgrade\")\r\n",
        "f.close()\r\n",
        "f=open(\"python.txt\",\"r\")\r\n",
        "print(f.read())\r\n",
        "f=open(\"python.txt\",\"a+\")\r\n",
        "f.write(\"Appended Line - I Love LetsUpgrade\")\r\n",
        "f.close()\r\n",
        "f=open(\"python.txt\",\"r\")\r\n",
        "print(f.read())"
      ],
      "execution_count": null,
      "outputs": []
    },
    {
      "cell_type": "code",
      "metadata": {
        "colab": {
          "base_uri": "https://localhost:8080/"
        },
        "id": "7iXjmx3ZJL5G",
        "outputId": "4bef3db5-c8b1-4938-bd26-868b873608c9"
      },
      "source": [
        "#Question 2\r\n",
        "#Write a function which can return a Factorial of any numbers as INT, given in the argument.\r\n",
        "\r\n",
        "#Solution\r\n",
        "def factorial(n):\r\n",
        "  if n==0:\r\n",
        "    return 1\r\n",
        "  elif n==1:\r\n",
        "    return 1\r\n",
        "  else:\r\n",
        "    a=1\r\n",
        "    for i in range (1,n+1):\r\n",
        "      a=a*i\r\n",
        "    print (a)\r\n",
        "\r\n",
        "n=int(input(\"Enter a number to compute its factorial: \"))\r\n",
        "factorial(n)"
      ],
      "execution_count": 20,
      "outputs": [
        {
          "output_type": "stream",
          "text": [
            "Enter a number to compute its factorial: 6\n",
            "720\n"
          ],
          "name": "stdout"
        }
      ]
    }
  ]
}