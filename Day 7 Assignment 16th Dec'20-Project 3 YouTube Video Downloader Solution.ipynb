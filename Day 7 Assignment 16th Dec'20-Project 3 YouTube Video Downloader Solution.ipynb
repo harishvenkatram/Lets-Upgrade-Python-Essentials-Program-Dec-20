{
  "nbformat": 4,
  "nbformat_minor": 0,
  "metadata": {
    "colab": {
      "name": "Untitled52.ipynb",
      "provenance": [],
      "authorship_tag": "ABX9TyNVwU8cvSUSeL1R8fyiATI8",
      "include_colab_link": true
    },
    "kernelspec": {
      "name": "python3",
      "display_name": "Python 3"
    }
  },
  "cells": [
    {
      "cell_type": "markdown",
      "metadata": {
        "id": "view-in-github",
        "colab_type": "text"
      },
      "source": [
        "<a href=\"https://colab.research.google.com/github/harishvenkatram/Lets-Upgrade-Python-Essentials-Program-Dec-20/blob/main/Day%207%20Assignment%2016th%20Dec'20-Project%203%20YouTube%20Video%20Downloader%20Solution.ipynb\" target=\"_parent\"><img src=\"https://colab.research.google.com/assets/colab-badge.svg\" alt=\"Open In Colab\"/></a>"
      ]
    },
    {
      "cell_type": "code",
      "metadata": {
        "colab": {
          "base_uri": "https://localhost:8080/"
        },
        "id": "Mv5jJz5Zt0Bl",
        "outputId": "4cee7efb-5399-4abe-d9f3-99ba28538a57"
      },
      "source": [
        "pip install pytube"
      ],
      "execution_count": 26,
      "outputs": [
        {
          "output_type": "stream",
          "text": [
            "Collecting pytube\n",
            "\u001b[?25l  Downloading https://files.pythonhosted.org/packages/63/2d/5b64e61f34d193b718aa39d322eddd7a17a3cc07f56a4b27b107ea234c02/pytube-10.0.0-py3-none-any.whl (40kB)\n",
            "\r\u001b[K     |████████                        | 10kB 14.8MB/s eta 0:00:01\r\u001b[K     |████████████████                | 20kB 9.7MB/s eta 0:00:01\r\u001b[K     |████████████████████████        | 30kB 7.9MB/s eta 0:00:01\r\u001b[K     |████████████████████████████████| 40kB 3.2MB/s \n",
            "\u001b[?25hRequirement already satisfied: typing-extensions in /usr/local/lib/python3.6/dist-packages (from pytube) (3.7.4.3)\n",
            "Installing collected packages: pytube\n",
            "Successfully installed pytube-10.0.0\n"
          ],
          "name": "stdout"
        }
      ]
    },
    {
      "cell_type": "code",
      "metadata": {
        "colab": {
          "base_uri": "https://localhost:8080/"
        },
        "id": "dbhuQoeougbJ",
        "outputId": "551dd058-188b-4ca0-9ec0-25c89967a565"
      },
      "source": [
        "from pytube import YouTube\r\n",
        " \r\n",
        "youtube_video_url = 'https://www.youtube.com/watch?v=aEDu2oKOWzE&t=4s'\r\n",
        " \r\n",
        "try:\r\n",
        "    yt_obj = YouTube(youtube_video_url)\r\n",
        "    filters = yt_obj.streams.filter(progressive=True, file_extension='mp4')\r\n",
        "    filters.get_highest_resolution().download()\r\n",
        "    print('Video Downloaded Successfully')\r\n",
        "except Exception as e:\r\n",
        "    print(e)"
      ],
      "execution_count": 30,
      "outputs": [
        {
          "output_type": "stream",
          "text": [
            "Video Downloaded Successfully\n"
          ],
          "name": "stdout"
        }
      ]
    }
  ]
}