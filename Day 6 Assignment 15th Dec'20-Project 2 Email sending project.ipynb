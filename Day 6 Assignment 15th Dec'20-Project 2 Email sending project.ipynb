{
  "nbformat": 4,
  "nbformat_minor": 0,
  "metadata": {
    "colab": {
      "name": "Untitled52.ipynb",
      "provenance": [],
      "authorship_tag": "ABX9TyML6x8FnpDs8gw3iwlIBzaU",
      "include_colab_link": true
    },
    "kernelspec": {
      "name": "python3",
      "display_name": "Python 3"
    }
  },
  "cells": [
    {
      "cell_type": "markdown",
      "metadata": {
        "id": "view-in-github",
        "colab_type": "text"
      },
      "source": [
        "<a href=\"https://colab.research.google.com/github/harishvenkatram/Lets-Upgrade-Python-Essentials-Program-Dec-20/blob/main/Day%206%20Assignment%2015th%20Dec'20-Project%202%20Email%20sending%20project.ipynb\" target=\"_parent\"><img src=\"https://colab.research.google.com/assets/colab-badge.svg\" alt=\"Open In Colab\"/></a>"
      ]
    },
    {
      "cell_type": "code",
      "metadata": {
        "id": "yD-SvzfbOeAR"
      },
      "source": [
        "#Question 1\r\n",
        "#Do the project - Email sending using python and upload it in Github\r\n",
        "\r\n",
        "#Solution\r\n",
        "import smtplib \r\n",
        "s = smtplib.SMTP('smtp.gmail.com', 587) \r\n",
        "s.starttls() \r\n",
        "s.login(\"sender_email_id\", \"sender_email_id_password\") \r\n",
        "message = \"Hi\"\r\n",
        "s.sendmail(\"sender_email_id\", \"receiver_email_id\", message)\r\n",
        "s.quit()"
      ],
      "execution_count": null,
      "outputs": []
    }
  ]
}